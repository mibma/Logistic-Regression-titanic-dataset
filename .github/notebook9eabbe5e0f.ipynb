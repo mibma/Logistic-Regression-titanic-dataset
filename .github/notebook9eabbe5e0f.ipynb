{
 "cells": [
  {
   "cell_type": "code",
   "execution_count": 1,
   "id": "ccc945fc",
   "metadata": {
    "_cell_guid": "b1076dfc-b9ad-4769-8c92-a6c4dae69d19",
    "_uuid": "8f2839f25d086af736a60e9eeb907d3b93b6e0e5",
    "execution": {
     "iopub.execute_input": "2023-07-19T17:29:47.316488Z",
     "iopub.status.busy": "2023-07-19T17:29:47.316128Z",
     "iopub.status.idle": "2023-07-19T17:29:47.334363Z",
     "shell.execute_reply": "2023-07-19T17:29:47.333285Z"
    },
    "papermill": {
     "duration": 0.026537,
     "end_time": "2023-07-19T17:29:47.336465",
     "exception": false,
     "start_time": "2023-07-19T17:29:47.309928",
     "status": "completed"
    },
    "tags": []
   },
   "outputs": [
    {
     "name": "stdout",
     "output_type": "stream",
     "text": [
      "/kaggle/input/titanic/train_and_test2.csv\n"
     ]
    }
   ],
   "source": [
    "# This Python 3 environment comes with many helpful analytics libraries installed\n",
    "# It is defined by the kaggle/python Docker image: https://github.com/kaggle/docker-python\n",
    "# For example, here's several helpful packages to load\n",
    "\n",
    "import numpy as np # linear algebra\n",
    "import pandas as pd # data processing, CSV file I/O (e.g. pd.read_csv)\n",
    "\n",
    "# Input data files are available in the read-only \"../input/\" directory\n",
    "# For example, running this (by clicking run or pressing Shift+Enter) will list all files under the input directory\n",
    "\n",
    "import os\n",
    "for dirname, _, filenames in os.walk('/kaggle/input'):\n",
    "    for filename in filenames:\n",
    "        print(os.path.join(dirname, filename))\n",
    "\n",
    "# You can write up to 20GB to the current directory (/kaggle/working/) that gets preserved as output when you create a version using \"Save & Run All\" \n",
    "# You can also write temporary files to /kaggle/temp/, but they won't be saved outside of the current session"
   ]
  },
  {
   "cell_type": "code",
   "execution_count": 2,
   "id": "d50b339a",
   "metadata": {
    "execution": {
     "iopub.execute_input": "2023-07-19T17:29:47.346193Z",
     "iopub.status.busy": "2023-07-19T17:29:47.345836Z",
     "iopub.status.idle": "2023-07-19T17:29:47.371547Z",
     "shell.execute_reply": "2023-07-19T17:29:47.370258Z"
    },
    "papermill": {
     "duration": 0.033472,
     "end_time": "2023-07-19T17:29:47.374091",
     "exception": false,
     "start_time": "2023-07-19T17:29:47.340619",
     "status": "completed"
    },
    "tags": []
   },
   "outputs": [],
   "source": [
    "dataset=pd.read_csv('/kaggle/input/titanic/train_and_test2.csv')"
   ]
  },
  {
   "cell_type": "code",
   "execution_count": 3,
   "id": "678654a6",
   "metadata": {
    "execution": {
     "iopub.execute_input": "2023-07-19T17:29:47.384172Z",
     "iopub.status.busy": "2023-07-19T17:29:47.383605Z",
     "iopub.status.idle": "2023-07-19T17:29:47.419239Z",
     "shell.execute_reply": "2023-07-19T17:29:47.417836Z"
    },
    "papermill": {
     "duration": 0.04391,
     "end_time": "2023-07-19T17:29:47.422248",
     "exception": false,
     "start_time": "2023-07-19T17:29:47.378338",
     "status": "completed"
    },
    "tags": []
   },
   "outputs": [
    {
     "data": {
      "text/html": [
       "<div>\n",
       "<style scoped>\n",
       "    .dataframe tbody tr th:only-of-type {\n",
       "        vertical-align: middle;\n",
       "    }\n",
       "\n",
       "    .dataframe tbody tr th {\n",
       "        vertical-align: top;\n",
       "    }\n",
       "\n",
       "    .dataframe thead th {\n",
       "        text-align: right;\n",
       "    }\n",
       "</style>\n",
       "<table border=\"1\" class=\"dataframe\">\n",
       "  <thead>\n",
       "    <tr style=\"text-align: right;\">\n",
       "      <th></th>\n",
       "      <th>Passengerid</th>\n",
       "      <th>Age</th>\n",
       "      <th>Fare</th>\n",
       "      <th>Sex</th>\n",
       "      <th>sibsp</th>\n",
       "      <th>zero</th>\n",
       "      <th>zero.1</th>\n",
       "      <th>zero.2</th>\n",
       "      <th>zero.3</th>\n",
       "      <th>zero.4</th>\n",
       "      <th>...</th>\n",
       "      <th>zero.12</th>\n",
       "      <th>zero.13</th>\n",
       "      <th>zero.14</th>\n",
       "      <th>Pclass</th>\n",
       "      <th>zero.15</th>\n",
       "      <th>zero.16</th>\n",
       "      <th>Embarked</th>\n",
       "      <th>zero.17</th>\n",
       "      <th>zero.18</th>\n",
       "      <th>2urvived</th>\n",
       "    </tr>\n",
       "  </thead>\n",
       "  <tbody>\n",
       "    <tr>\n",
       "      <th>0</th>\n",
       "      <td>1</td>\n",
       "      <td>22.0</td>\n",
       "      <td>7.2500</td>\n",
       "      <td>0</td>\n",
       "      <td>1</td>\n",
       "      <td>0</td>\n",
       "      <td>0</td>\n",
       "      <td>0</td>\n",
       "      <td>0</td>\n",
       "      <td>0</td>\n",
       "      <td>...</td>\n",
       "      <td>0</td>\n",
       "      <td>0</td>\n",
       "      <td>0</td>\n",
       "      <td>3</td>\n",
       "      <td>0</td>\n",
       "      <td>0</td>\n",
       "      <td>2.0</td>\n",
       "      <td>0</td>\n",
       "      <td>0</td>\n",
       "      <td>0</td>\n",
       "    </tr>\n",
       "    <tr>\n",
       "      <th>1</th>\n",
       "      <td>2</td>\n",
       "      <td>38.0</td>\n",
       "      <td>71.2833</td>\n",
       "      <td>1</td>\n",
       "      <td>1</td>\n",
       "      <td>0</td>\n",
       "      <td>0</td>\n",
       "      <td>0</td>\n",
       "      <td>0</td>\n",
       "      <td>0</td>\n",
       "      <td>...</td>\n",
       "      <td>0</td>\n",
       "      <td>0</td>\n",
       "      <td>0</td>\n",
       "      <td>1</td>\n",
       "      <td>0</td>\n",
       "      <td>0</td>\n",
       "      <td>0.0</td>\n",
       "      <td>0</td>\n",
       "      <td>0</td>\n",
       "      <td>1</td>\n",
       "    </tr>\n",
       "    <tr>\n",
       "      <th>2</th>\n",
       "      <td>3</td>\n",
       "      <td>26.0</td>\n",
       "      <td>7.9250</td>\n",
       "      <td>1</td>\n",
       "      <td>0</td>\n",
       "      <td>0</td>\n",
       "      <td>0</td>\n",
       "      <td>0</td>\n",
       "      <td>0</td>\n",
       "      <td>0</td>\n",
       "      <td>...</td>\n",
       "      <td>0</td>\n",
       "      <td>0</td>\n",
       "      <td>0</td>\n",
       "      <td>3</td>\n",
       "      <td>0</td>\n",
       "      <td>0</td>\n",
       "      <td>2.0</td>\n",
       "      <td>0</td>\n",
       "      <td>0</td>\n",
       "      <td>1</td>\n",
       "    </tr>\n",
       "    <tr>\n",
       "      <th>3</th>\n",
       "      <td>4</td>\n",
       "      <td>35.0</td>\n",
       "      <td>53.1000</td>\n",
       "      <td>1</td>\n",
       "      <td>1</td>\n",
       "      <td>0</td>\n",
       "      <td>0</td>\n",
       "      <td>0</td>\n",
       "      <td>0</td>\n",
       "      <td>0</td>\n",
       "      <td>...</td>\n",
       "      <td>0</td>\n",
       "      <td>0</td>\n",
       "      <td>0</td>\n",
       "      <td>1</td>\n",
       "      <td>0</td>\n",
       "      <td>0</td>\n",
       "      <td>2.0</td>\n",
       "      <td>0</td>\n",
       "      <td>0</td>\n",
       "      <td>1</td>\n",
       "    </tr>\n",
       "    <tr>\n",
       "      <th>4</th>\n",
       "      <td>5</td>\n",
       "      <td>35.0</td>\n",
       "      <td>8.0500</td>\n",
       "      <td>0</td>\n",
       "      <td>0</td>\n",
       "      <td>0</td>\n",
       "      <td>0</td>\n",
       "      <td>0</td>\n",
       "      <td>0</td>\n",
       "      <td>0</td>\n",
       "      <td>...</td>\n",
       "      <td>0</td>\n",
       "      <td>0</td>\n",
       "      <td>0</td>\n",
       "      <td>3</td>\n",
       "      <td>0</td>\n",
       "      <td>0</td>\n",
       "      <td>2.0</td>\n",
       "      <td>0</td>\n",
       "      <td>0</td>\n",
       "      <td>0</td>\n",
       "    </tr>\n",
       "  </tbody>\n",
       "</table>\n",
       "<p>5 rows × 28 columns</p>\n",
       "</div>"
      ],
      "text/plain": [
       "   Passengerid   Age     Fare  Sex  sibsp  zero  zero.1  zero.2  zero.3  \\\n",
       "0            1  22.0   7.2500    0      1     0       0       0       0   \n",
       "1            2  38.0  71.2833    1      1     0       0       0       0   \n",
       "2            3  26.0   7.9250    1      0     0       0       0       0   \n",
       "3            4  35.0  53.1000    1      1     0       0       0       0   \n",
       "4            5  35.0   8.0500    0      0     0       0       0       0   \n",
       "\n",
       "   zero.4  ...  zero.12  zero.13  zero.14  Pclass  zero.15  zero.16  Embarked  \\\n",
       "0       0  ...        0        0        0       3        0        0       2.0   \n",
       "1       0  ...        0        0        0       1        0        0       0.0   \n",
       "2       0  ...        0        0        0       3        0        0       2.0   \n",
       "3       0  ...        0        0        0       1        0        0       2.0   \n",
       "4       0  ...        0        0        0       3        0        0       2.0   \n",
       "\n",
       "   zero.17  zero.18  2urvived  \n",
       "0        0        0         0  \n",
       "1        0        0         1  \n",
       "2        0        0         1  \n",
       "3        0        0         1  \n",
       "4        0        0         0  \n",
       "\n",
       "[5 rows x 28 columns]"
      ]
     },
     "execution_count": 3,
     "metadata": {},
     "output_type": "execute_result"
    }
   ],
   "source": [
    "dataset.head()"
   ]
  },
  {
   "cell_type": "code",
   "execution_count": 4,
   "id": "18b57f20",
   "metadata": {
    "execution": {
     "iopub.execute_input": "2023-07-19T17:29:47.433175Z",
     "iopub.status.busy": "2023-07-19T17:29:47.432181Z",
     "iopub.status.idle": "2023-07-19T17:29:47.441937Z",
     "shell.execute_reply": "2023-07-19T17:29:47.440855Z"
    },
    "papermill": {
     "duration": 0.017166,
     "end_time": "2023-07-19T17:29:47.443909",
     "exception": false,
     "start_time": "2023-07-19T17:29:47.426743",
     "status": "completed"
    },
    "tags": []
   },
   "outputs": [
    {
     "data": {
      "text/plain": [
       "Passengerid    0\n",
       "Age            0\n",
       "Fare           0\n",
       "Sex            0\n",
       "sibsp          0\n",
       "zero           0\n",
       "zero.1         0\n",
       "zero.2         0\n",
       "zero.3         0\n",
       "zero.4         0\n",
       "zero.5         0\n",
       "zero.6         0\n",
       "Parch          0\n",
       "zero.7         0\n",
       "zero.8         0\n",
       "zero.9         0\n",
       "zero.10        0\n",
       "zero.11        0\n",
       "zero.12        0\n",
       "zero.13        0\n",
       "zero.14        0\n",
       "Pclass         0\n",
       "zero.15        0\n",
       "zero.16        0\n",
       "Embarked       2\n",
       "zero.17        0\n",
       "zero.18        0\n",
       "2urvived       0\n",
       "dtype: int64"
      ]
     },
     "execution_count": 4,
     "metadata": {},
     "output_type": "execute_result"
    }
   ],
   "source": [
    "dataset.isnull().sum()"
   ]
  },
  {
   "cell_type": "code",
   "execution_count": 5,
   "id": "47407cee",
   "metadata": {
    "execution": {
     "iopub.execute_input": "2023-07-19T17:29:47.454647Z",
     "iopub.status.busy": "2023-07-19T17:29:47.454127Z",
     "iopub.status.idle": "2023-07-19T17:29:47.460853Z",
     "shell.execute_reply": "2023-07-19T17:29:47.460089Z"
    },
    "papermill": {
     "duration": 0.01417,
     "end_time": "2023-07-19T17:29:47.462640",
     "exception": false,
     "start_time": "2023-07-19T17:29:47.448470",
     "status": "completed"
    },
    "tags": []
   },
   "outputs": [],
   "source": [
    "dataset.drop(['Passengerid','Embarked','Pclass'],axis=1,inplace=True)"
   ]
  },
  {
   "cell_type": "code",
   "execution_count": 6,
   "id": "d7e0c7a8",
   "metadata": {
    "execution": {
     "iopub.execute_input": "2023-07-19T17:29:47.473377Z",
     "iopub.status.busy": "2023-07-19T17:29:47.473023Z",
     "iopub.status.idle": "2023-07-19T17:29:47.492710Z",
     "shell.execute_reply": "2023-07-19T17:29:47.491360Z"
    },
    "papermill": {
     "duration": 0.027865,
     "end_time": "2023-07-19T17:29:47.495113",
     "exception": false,
     "start_time": "2023-07-19T17:29:47.467248",
     "status": "completed"
    },
    "tags": []
   },
   "outputs": [
    {
     "data": {
      "text/html": [
       "<div>\n",
       "<style scoped>\n",
       "    .dataframe tbody tr th:only-of-type {\n",
       "        vertical-align: middle;\n",
       "    }\n",
       "\n",
       "    .dataframe tbody tr th {\n",
       "        vertical-align: top;\n",
       "    }\n",
       "\n",
       "    .dataframe thead th {\n",
       "        text-align: right;\n",
       "    }\n",
       "</style>\n",
       "<table border=\"1\" class=\"dataframe\">\n",
       "  <thead>\n",
       "    <tr style=\"text-align: right;\">\n",
       "      <th></th>\n",
       "      <th>Age</th>\n",
       "      <th>Fare</th>\n",
       "      <th>Sex</th>\n",
       "      <th>sibsp</th>\n",
       "      <th>zero</th>\n",
       "      <th>zero.1</th>\n",
       "      <th>zero.2</th>\n",
       "      <th>zero.3</th>\n",
       "      <th>zero.4</th>\n",
       "      <th>zero.5</th>\n",
       "      <th>...</th>\n",
       "      <th>zero.10</th>\n",
       "      <th>zero.11</th>\n",
       "      <th>zero.12</th>\n",
       "      <th>zero.13</th>\n",
       "      <th>zero.14</th>\n",
       "      <th>zero.15</th>\n",
       "      <th>zero.16</th>\n",
       "      <th>zero.17</th>\n",
       "      <th>zero.18</th>\n",
       "      <th>2urvived</th>\n",
       "    </tr>\n",
       "  </thead>\n",
       "  <tbody>\n",
       "    <tr>\n",
       "      <th>0</th>\n",
       "      <td>22.0</td>\n",
       "      <td>7.2500</td>\n",
       "      <td>0</td>\n",
       "      <td>1</td>\n",
       "      <td>0</td>\n",
       "      <td>0</td>\n",
       "      <td>0</td>\n",
       "      <td>0</td>\n",
       "      <td>0</td>\n",
       "      <td>0</td>\n",
       "      <td>...</td>\n",
       "      <td>0</td>\n",
       "      <td>0</td>\n",
       "      <td>0</td>\n",
       "      <td>0</td>\n",
       "      <td>0</td>\n",
       "      <td>0</td>\n",
       "      <td>0</td>\n",
       "      <td>0</td>\n",
       "      <td>0</td>\n",
       "      <td>0</td>\n",
       "    </tr>\n",
       "    <tr>\n",
       "      <th>1</th>\n",
       "      <td>38.0</td>\n",
       "      <td>71.2833</td>\n",
       "      <td>1</td>\n",
       "      <td>1</td>\n",
       "      <td>0</td>\n",
       "      <td>0</td>\n",
       "      <td>0</td>\n",
       "      <td>0</td>\n",
       "      <td>0</td>\n",
       "      <td>0</td>\n",
       "      <td>...</td>\n",
       "      <td>0</td>\n",
       "      <td>0</td>\n",
       "      <td>0</td>\n",
       "      <td>0</td>\n",
       "      <td>0</td>\n",
       "      <td>0</td>\n",
       "      <td>0</td>\n",
       "      <td>0</td>\n",
       "      <td>0</td>\n",
       "      <td>1</td>\n",
       "    </tr>\n",
       "    <tr>\n",
       "      <th>2</th>\n",
       "      <td>26.0</td>\n",
       "      <td>7.9250</td>\n",
       "      <td>1</td>\n",
       "      <td>0</td>\n",
       "      <td>0</td>\n",
       "      <td>0</td>\n",
       "      <td>0</td>\n",
       "      <td>0</td>\n",
       "      <td>0</td>\n",
       "      <td>0</td>\n",
       "      <td>...</td>\n",
       "      <td>0</td>\n",
       "      <td>0</td>\n",
       "      <td>0</td>\n",
       "      <td>0</td>\n",
       "      <td>0</td>\n",
       "      <td>0</td>\n",
       "      <td>0</td>\n",
       "      <td>0</td>\n",
       "      <td>0</td>\n",
       "      <td>1</td>\n",
       "    </tr>\n",
       "    <tr>\n",
       "      <th>3</th>\n",
       "      <td>35.0</td>\n",
       "      <td>53.1000</td>\n",
       "      <td>1</td>\n",
       "      <td>1</td>\n",
       "      <td>0</td>\n",
       "      <td>0</td>\n",
       "      <td>0</td>\n",
       "      <td>0</td>\n",
       "      <td>0</td>\n",
       "      <td>0</td>\n",
       "      <td>...</td>\n",
       "      <td>0</td>\n",
       "      <td>0</td>\n",
       "      <td>0</td>\n",
       "      <td>0</td>\n",
       "      <td>0</td>\n",
       "      <td>0</td>\n",
       "      <td>0</td>\n",
       "      <td>0</td>\n",
       "      <td>0</td>\n",
       "      <td>1</td>\n",
       "    </tr>\n",
       "    <tr>\n",
       "      <th>4</th>\n",
       "      <td>35.0</td>\n",
       "      <td>8.0500</td>\n",
       "      <td>0</td>\n",
       "      <td>0</td>\n",
       "      <td>0</td>\n",
       "      <td>0</td>\n",
       "      <td>0</td>\n",
       "      <td>0</td>\n",
       "      <td>0</td>\n",
       "      <td>0</td>\n",
       "      <td>...</td>\n",
       "      <td>0</td>\n",
       "      <td>0</td>\n",
       "      <td>0</td>\n",
       "      <td>0</td>\n",
       "      <td>0</td>\n",
       "      <td>0</td>\n",
       "      <td>0</td>\n",
       "      <td>0</td>\n",
       "      <td>0</td>\n",
       "      <td>0</td>\n",
       "    </tr>\n",
       "  </tbody>\n",
       "</table>\n",
       "<p>5 rows × 25 columns</p>\n",
       "</div>"
      ],
      "text/plain": [
       "    Age     Fare  Sex  sibsp  zero  zero.1  zero.2  zero.3  zero.4  zero.5  \\\n",
       "0  22.0   7.2500    0      1     0       0       0       0       0       0   \n",
       "1  38.0  71.2833    1      1     0       0       0       0       0       0   \n",
       "2  26.0   7.9250    1      0     0       0       0       0       0       0   \n",
       "3  35.0  53.1000    1      1     0       0       0       0       0       0   \n",
       "4  35.0   8.0500    0      0     0       0       0       0       0       0   \n",
       "\n",
       "   ...  zero.10  zero.11  zero.12  zero.13  zero.14  zero.15  zero.16  \\\n",
       "0  ...        0        0        0        0        0        0        0   \n",
       "1  ...        0        0        0        0        0        0        0   \n",
       "2  ...        0        0        0        0        0        0        0   \n",
       "3  ...        0        0        0        0        0        0        0   \n",
       "4  ...        0        0        0        0        0        0        0   \n",
       "\n",
       "   zero.17  zero.18  2urvived  \n",
       "0        0        0         0  \n",
       "1        0        0         1  \n",
       "2        0        0         1  \n",
       "3        0        0         1  \n",
       "4        0        0         0  \n",
       "\n",
       "[5 rows x 25 columns]"
      ]
     },
     "execution_count": 6,
     "metadata": {},
     "output_type": "execute_result"
    }
   ],
   "source": [
    "dataset.head()"
   ]
  },
  {
   "cell_type": "code",
   "execution_count": 7,
   "id": "e309e455",
   "metadata": {
    "execution": {
     "iopub.execute_input": "2023-07-19T17:29:47.505947Z",
     "iopub.status.busy": "2023-07-19T17:29:47.505421Z",
     "iopub.status.idle": "2023-07-19T17:29:47.512117Z",
     "shell.execute_reply": "2023-07-19T17:29:47.510550Z"
    },
    "papermill": {
     "duration": 0.014845,
     "end_time": "2023-07-19T17:29:47.514792",
     "exception": false,
     "start_time": "2023-07-19T17:29:47.499947",
     "status": "completed"
    },
    "tags": []
   },
   "outputs": [],
   "source": [
    "X=dataset.drop(['2urvived'],axis=1).values"
   ]
  },
  {
   "cell_type": "code",
   "execution_count": 8,
   "id": "4e9c3d31",
   "metadata": {
    "execution": {
     "iopub.execute_input": "2023-07-19T17:29:47.526548Z",
     "iopub.status.busy": "2023-07-19T17:29:47.525282Z",
     "iopub.status.idle": "2023-07-19T17:29:47.531643Z",
     "shell.execute_reply": "2023-07-19T17:29:47.530458Z"
    },
    "papermill": {
     "duration": 0.014341,
     "end_time": "2023-07-19T17:29:47.533930",
     "exception": false,
     "start_time": "2023-07-19T17:29:47.519589",
     "status": "completed"
    },
    "tags": []
   },
   "outputs": [],
   "source": [
    "y=dataset['2urvived']"
   ]
  },
  {
   "cell_type": "code",
   "execution_count": 9,
   "id": "f1b889d9",
   "metadata": {
    "execution": {
     "iopub.execute_input": "2023-07-19T17:29:47.544575Z",
     "iopub.status.busy": "2023-07-19T17:29:47.544263Z",
     "iopub.status.idle": "2023-07-19T17:29:48.720686Z",
     "shell.execute_reply": "2023-07-19T17:29:48.719353Z"
    },
    "papermill": {
     "duration": 1.184483,
     "end_time": "2023-07-19T17:29:48.723128",
     "exception": false,
     "start_time": "2023-07-19T17:29:47.538645",
     "status": "completed"
    },
    "tags": []
   },
   "outputs": [
    {
     "name": "stderr",
     "output_type": "stream",
     "text": [
      "/opt/conda/lib/python3.10/site-packages/scipy/__init__.py:146: UserWarning: A NumPy version >=1.16.5 and <1.23.0 is required for this version of SciPy (detected version 1.23.5\n",
      "  warnings.warn(f\"A NumPy version >={np_minversion} and <{np_maxversion}\"\n"
     ]
    }
   ],
   "source": [
    "import sklearn\n",
    "from sklearn.model_selection import train_test_split"
   ]
  },
  {
   "cell_type": "code",
   "execution_count": 10,
   "id": "214ec296",
   "metadata": {
    "execution": {
     "iopub.execute_input": "2023-07-19T17:29:48.734230Z",
     "iopub.status.busy": "2023-07-19T17:29:48.733779Z",
     "iopub.status.idle": "2023-07-19T17:29:48.741044Z",
     "shell.execute_reply": "2023-07-19T17:29:48.739864Z"
    },
    "papermill": {
     "duration": 0.015781,
     "end_time": "2023-07-19T17:29:48.743990",
     "exception": false,
     "start_time": "2023-07-19T17:29:48.728209",
     "status": "completed"
    },
    "tags": []
   },
   "outputs": [],
   "source": [
    "X_train, X_test, y_train, y_test=train_test_split(X,y,test_size=0.3,random_state=42)"
   ]
  },
  {
   "cell_type": "code",
   "execution_count": 11,
   "id": "07d8e780",
   "metadata": {
    "execution": {
     "iopub.execute_input": "2023-07-19T17:29:48.756947Z",
     "iopub.status.busy": "2023-07-19T17:29:48.756555Z",
     "iopub.status.idle": "2023-07-19T17:29:48.864450Z",
     "shell.execute_reply": "2023-07-19T17:29:48.863099Z"
    },
    "papermill": {
     "duration": 0.116492,
     "end_time": "2023-07-19T17:29:48.866898",
     "exception": false,
     "start_time": "2023-07-19T17:29:48.750406",
     "status": "completed"
    },
    "tags": []
   },
   "outputs": [],
   "source": [
    "from sklearn.linear_model import LogisticRegression\n",
    "model=LogisticRegression()"
   ]
  },
  {
   "cell_type": "code",
   "execution_count": 12,
   "id": "86f7bd5b",
   "metadata": {
    "execution": {
     "iopub.execute_input": "2023-07-19T17:29:48.879443Z",
     "iopub.status.busy": "2023-07-19T17:29:48.878635Z",
     "iopub.status.idle": "2023-07-19T17:29:48.913579Z",
     "shell.execute_reply": "2023-07-19T17:29:48.912840Z"
    },
    "papermill": {
     "duration": 0.043301,
     "end_time": "2023-07-19T17:29:48.915475",
     "exception": false,
     "start_time": "2023-07-19T17:29:48.872174",
     "status": "completed"
    },
    "tags": []
   },
   "outputs": [
    {
     "data": {
      "text/html": [
       "<style>#sk-container-id-1 {color: black;background-color: white;}#sk-container-id-1 pre{padding: 0;}#sk-container-id-1 div.sk-toggleable {background-color: white;}#sk-container-id-1 label.sk-toggleable__label {cursor: pointer;display: block;width: 100%;margin-bottom: 0;padding: 0.3em;box-sizing: border-box;text-align: center;}#sk-container-id-1 label.sk-toggleable__label-arrow:before {content: \"▸\";float: left;margin-right: 0.25em;color: #696969;}#sk-container-id-1 label.sk-toggleable__label-arrow:hover:before {color: black;}#sk-container-id-1 div.sk-estimator:hover label.sk-toggleable__label-arrow:before {color: black;}#sk-container-id-1 div.sk-toggleable__content {max-height: 0;max-width: 0;overflow: hidden;text-align: left;background-color: #f0f8ff;}#sk-container-id-1 div.sk-toggleable__content pre {margin: 0.2em;color: black;border-radius: 0.25em;background-color: #f0f8ff;}#sk-container-id-1 input.sk-toggleable__control:checked~div.sk-toggleable__content {max-height: 200px;max-width: 100%;overflow: auto;}#sk-container-id-1 input.sk-toggleable__control:checked~label.sk-toggleable__label-arrow:before {content: \"▾\";}#sk-container-id-1 div.sk-estimator input.sk-toggleable__control:checked~label.sk-toggleable__label {background-color: #d4ebff;}#sk-container-id-1 div.sk-label input.sk-toggleable__control:checked~label.sk-toggleable__label {background-color: #d4ebff;}#sk-container-id-1 input.sk-hidden--visually {border: 0;clip: rect(1px 1px 1px 1px);clip: rect(1px, 1px, 1px, 1px);height: 1px;margin: -1px;overflow: hidden;padding: 0;position: absolute;width: 1px;}#sk-container-id-1 div.sk-estimator {font-family: monospace;background-color: #f0f8ff;border: 1px dotted black;border-radius: 0.25em;box-sizing: border-box;margin-bottom: 0.5em;}#sk-container-id-1 div.sk-estimator:hover {background-color: #d4ebff;}#sk-container-id-1 div.sk-parallel-item::after {content: \"\";width: 100%;border-bottom: 1px solid gray;flex-grow: 1;}#sk-container-id-1 div.sk-label:hover label.sk-toggleable__label {background-color: #d4ebff;}#sk-container-id-1 div.sk-serial::before {content: \"\";position: absolute;border-left: 1px solid gray;box-sizing: border-box;top: 0;bottom: 0;left: 50%;z-index: 0;}#sk-container-id-1 div.sk-serial {display: flex;flex-direction: column;align-items: center;background-color: white;padding-right: 0.2em;padding-left: 0.2em;position: relative;}#sk-container-id-1 div.sk-item {position: relative;z-index: 1;}#sk-container-id-1 div.sk-parallel {display: flex;align-items: stretch;justify-content: center;background-color: white;position: relative;}#sk-container-id-1 div.sk-item::before, #sk-container-id-1 div.sk-parallel-item::before {content: \"\";position: absolute;border-left: 1px solid gray;box-sizing: border-box;top: 0;bottom: 0;left: 50%;z-index: -1;}#sk-container-id-1 div.sk-parallel-item {display: flex;flex-direction: column;z-index: 1;position: relative;background-color: white;}#sk-container-id-1 div.sk-parallel-item:first-child::after {align-self: flex-end;width: 50%;}#sk-container-id-1 div.sk-parallel-item:last-child::after {align-self: flex-start;width: 50%;}#sk-container-id-1 div.sk-parallel-item:only-child::after {width: 0;}#sk-container-id-1 div.sk-dashed-wrapped {border: 1px dashed gray;margin: 0 0.4em 0.5em 0.4em;box-sizing: border-box;padding-bottom: 0.4em;background-color: white;}#sk-container-id-1 div.sk-label label {font-family: monospace;font-weight: bold;display: inline-block;line-height: 1.2em;}#sk-container-id-1 div.sk-label-container {text-align: center;}#sk-container-id-1 div.sk-container {/* jupyter's `normalize.less` sets `[hidden] { display: none; }` but bootstrap.min.css set `[hidden] { display: none !important; }` so we also need the `!important` here to be able to override the default hidden behavior on the sphinx rendered scikit-learn.org. See: https://github.com/scikit-learn/scikit-learn/issues/21755 */display: inline-block !important;position: relative;}#sk-container-id-1 div.sk-text-repr-fallback {display: none;}</style><div id=\"sk-container-id-1\" class=\"sk-top-container\"><div class=\"sk-text-repr-fallback\"><pre>LogisticRegression()</pre><b>In a Jupyter environment, please rerun this cell to show the HTML representation or trust the notebook. <br />On GitHub, the HTML representation is unable to render, please try loading this page with nbviewer.org.</b></div><div class=\"sk-container\" hidden><div class=\"sk-item\"><div class=\"sk-estimator sk-toggleable\"><input class=\"sk-toggleable__control sk-hidden--visually\" id=\"sk-estimator-id-1\" type=\"checkbox\" checked><label for=\"sk-estimator-id-1\" class=\"sk-toggleable__label sk-toggleable__label-arrow\">LogisticRegression</label><div class=\"sk-toggleable__content\"><pre>LogisticRegression()</pre></div></div></div></div></div>"
      ],
      "text/plain": [
       "LogisticRegression()"
      ]
     },
     "execution_count": 12,
     "metadata": {},
     "output_type": "execute_result"
    }
   ],
   "source": [
    "model.fit(X_train,y_train)"
   ]
  },
  {
   "cell_type": "code",
   "execution_count": 13,
   "id": "905aa206",
   "metadata": {
    "execution": {
     "iopub.execute_input": "2023-07-19T17:29:48.929868Z",
     "iopub.status.busy": "2023-07-19T17:29:48.928945Z",
     "iopub.status.idle": "2023-07-19T17:29:48.933504Z",
     "shell.execute_reply": "2023-07-19T17:29:48.932838Z"
    },
    "papermill": {
     "duration": 0.013428,
     "end_time": "2023-07-19T17:29:48.935157",
     "exception": false,
     "start_time": "2023-07-19T17:29:48.921729",
     "status": "completed"
    },
    "tags": []
   },
   "outputs": [],
   "source": [
    "predictions=model.predict(X_test)"
   ]
  },
  {
   "cell_type": "code",
   "execution_count": 14,
   "id": "60c17c78",
   "metadata": {
    "execution": {
     "iopub.execute_input": "2023-07-19T17:29:48.949095Z",
     "iopub.status.busy": "2023-07-19T17:29:48.948699Z",
     "iopub.status.idle": "2023-07-19T17:29:48.952642Z",
     "shell.execute_reply": "2023-07-19T17:29:48.951998Z"
    },
    "papermill": {
     "duration": 0.012969,
     "end_time": "2023-07-19T17:29:48.954289",
     "exception": false,
     "start_time": "2023-07-19T17:29:48.941320",
     "status": "completed"
    },
    "tags": []
   },
   "outputs": [],
   "source": [
    "from sklearn.metrics import confusion_matrix"
   ]
  },
  {
   "cell_type": "code",
   "execution_count": 15,
   "id": "02b90585",
   "metadata": {
    "execution": {
     "iopub.execute_input": "2023-07-19T17:29:48.967679Z",
     "iopub.status.busy": "2023-07-19T17:29:48.967338Z",
     "iopub.status.idle": "2023-07-19T17:29:48.975932Z",
     "shell.execute_reply": "2023-07-19T17:29:48.975171Z"
    },
    "papermill": {
     "duration": 0.017817,
     "end_time": "2023-07-19T17:29:48.978129",
     "exception": false,
     "start_time": "2023-07-19T17:29:48.960312",
     "status": "completed"
    },
    "tags": []
   },
   "outputs": [
    {
     "data": {
      "text/plain": [
       "array([[274,  11],\n",
       "       [ 78,  30]])"
      ]
     },
     "execution_count": 15,
     "metadata": {},
     "output_type": "execute_result"
    }
   ],
   "source": [
    "confusion_matrix(y_test,predictions)"
   ]
  },
  {
   "cell_type": "code",
   "execution_count": 16,
   "id": "e36ab46e",
   "metadata": {
    "execution": {
     "iopub.execute_input": "2023-07-19T17:29:48.992495Z",
     "iopub.status.busy": "2023-07-19T17:29:48.992144Z",
     "iopub.status.idle": "2023-07-19T17:29:48.999651Z",
     "shell.execute_reply": "2023-07-19T17:29:48.998868Z"
    },
    "papermill": {
     "duration": 0.019888,
     "end_time": "2023-07-19T17:29:49.004639",
     "exception": false,
     "start_time": "2023-07-19T17:29:48.984751",
     "status": "completed"
    },
    "tags": []
   },
   "outputs": [
    {
     "data": {
      "text/plain": [
       "0.7735368956743003"
      ]
     },
     "execution_count": 16,
     "metadata": {},
     "output_type": "execute_result"
    }
   ],
   "source": [
    "from sklearn.metrics import accuracy_score\n",
    "accuracy_score(y_test,predictions)"
   ]
  },
  {
   "cell_type": "code",
   "execution_count": null,
   "id": "b4454965",
   "metadata": {
    "papermill": {
     "duration": 0.00762,
     "end_time": "2023-07-19T17:29:49.018614",
     "exception": false,
     "start_time": "2023-07-19T17:29:49.010994",
     "status": "completed"
    },
    "tags": []
   },
   "outputs": [],
   "source": []
  }
 ],
 "metadata": {
  "kernelspec": {
   "display_name": "Python 3",
   "language": "python",
   "name": "python3"
  },
  "language_info": {
   "codemirror_mode": {
    "name": "ipython",
    "version": 3
   },
   "file_extension": ".py",
   "mimetype": "text/x-python",
   "name": "python",
   "nbconvert_exporter": "python",
   "pygments_lexer": "ipython3",
   "version": "3.10.12"
  },
  "papermill": {
   "default_parameters": {},
   "duration": 12.924519,
   "end_time": "2023-07-19T17:29:49.946885",
   "environment_variables": {},
   "exception": null,
   "input_path": "__notebook__.ipynb",
   "output_path": "__notebook__.ipynb",
   "parameters": {},
   "start_time": "2023-07-19T17:29:37.022366",
   "version": "2.4.0"
  }
 },
 "nbformat": 4,
 "nbformat_minor": 5
}
